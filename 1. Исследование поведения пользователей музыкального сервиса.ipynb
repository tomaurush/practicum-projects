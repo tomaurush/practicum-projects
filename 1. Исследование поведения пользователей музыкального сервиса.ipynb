{
 "cells": [
  {
   "cell_type": "markdown",
   "metadata": {
    "id": "E0vqbgi9ay0H"
   },
   "source": [
    "# Яндекс.Музыка"
   ]
  },
  {
   "cell_type": "markdown",
   "metadata": {
    "id": "VUC88oWjTJw2"
   },
   "source": [
    "\n",
    "Сравнение Москвы и Петербурга окружено мифами. Например:\n",
    " * Москва — мегаполис, подчинённый жёсткому ритму рабочей недели;\n",
    " * Петербург — культурная столица, со своими вкусами.\n",
    "\n",
    "На данных Яндекс.Музыки вы сравните поведение пользователей двух столиц.\n",
    "\n",
    "**Цель исследования** — проверим три гипотезы:\n",
    "1. Активность пользователей зависит от дня недели. Причём в Москве и Петербурге это проявляется по-разному.\n",
    "2. В понедельник утром в Москве преобладают одни жанры, а в Петербурге — другие. Так же и вечером пятницы преобладают разные жанры — в зависимости от города. \n",
    "3. Москва и Петербург предпочитают разные жанры музыки. В Москве чаще слушают поп-музыку, в Петербурге — русский рэп.\n",
    "\n",
    "**Ход исследования**\n",
    "\n",
    "Данные о поведении пользователей мы получим из файла `data.csv`. О качестве данных ничего не известно. Поэтому перед проверкой гипотез понадобится обзор данных. \n",
    "\n",
    "Мы проверим данные на ошибки и оцените их влияние на исследование. Затем, на этапе предобработки мы поищем возможность исправить самые критичные ошибки данных.\n",
    " \n",
    "Таким образом, исследование пройдёт в три этапа:\n",
    " 1. Обзор данных.\n",
    " 2. Предобработка данных.\n",
    " 3. Проверка гипотез.\n",
    "\n"
   ]
  },
  {
   "cell_type": "markdown",
   "metadata": {
    "id": "Ml1hmfXC_Zcs"
   },
   "source": [
    "## Обзор данных"
   ]
  },
  {
   "cell_type": "code",
   "execution_count": 1,
   "metadata": {
    "id": "AXN7PHPN_Zcs"
   },
   "outputs": [],
   "source": [
    "# импорт библиотеки pandas\n",
    "import pandas as pd"
   ]
  },
  {
   "cell_type": "markdown",
   "metadata": {
    "id": "SG23P8tt_Zcs"
   },
   "source": [
    "Прочитайте файл `yandex_music_project.csv` из папки `/datasets` и сохраните его в переменной `df`:"
   ]
  },
  {
   "cell_type": "code",
   "execution_count": 2,
   "metadata": {
    "id": "fFVu7vqh_Zct"
   },
   "outputs": [],
   "source": [
    "# чтение файла с данными и сохранение в df\n",
    "df = pd.read_csv('/datasets/yandex_music_project.csv')"
   ]
  },
  {
   "cell_type": "markdown",
   "metadata": {
    "id": "rDoOMd3uTqnZ"
   },
   "source": [
    "Выведем на экран первые десять строк таблицы:"
   ]
  },
  {
   "cell_type": "code",
   "execution_count": 3,
   "metadata": {
    "id": "oWTVX3gW_Zct"
   },
   "outputs": [
    {
     "data": {
      "text/html": [
       "<div>\n",
       "<style scoped>\n",
       "    .dataframe tbody tr th:only-of-type {\n",
       "        vertical-align: middle;\n",
       "    }\n",
       "\n",
       "    .dataframe tbody tr th {\n",
       "        vertical-align: top;\n",
       "    }\n",
       "\n",
       "    .dataframe thead th {\n",
       "        text-align: right;\n",
       "    }\n",
       "</style>\n",
       "<table border=\"1\" class=\"dataframe\">\n",
       "  <thead>\n",
       "    <tr style=\"text-align: right;\">\n",
       "      <th></th>\n",
       "      <th>userID</th>\n",
       "      <th>Track</th>\n",
       "      <th>artist</th>\n",
       "      <th>genre</th>\n",
       "      <th>City</th>\n",
       "      <th>time</th>\n",
       "      <th>Day</th>\n",
       "    </tr>\n",
       "  </thead>\n",
       "  <tbody>\n",
       "    <tr>\n",
       "      <td>0</td>\n",
       "      <td>FFB692EC</td>\n",
       "      <td>Kamigata To Boots</td>\n",
       "      <td>The Mass Missile</td>\n",
       "      <td>rock</td>\n",
       "      <td>Saint-Petersburg</td>\n",
       "      <td>20:28:33</td>\n",
       "      <td>Wednesday</td>\n",
       "    </tr>\n",
       "    <tr>\n",
       "      <td>1</td>\n",
       "      <td>55204538</td>\n",
       "      <td>Delayed Because of Accident</td>\n",
       "      <td>Andreas Rönnberg</td>\n",
       "      <td>rock</td>\n",
       "      <td>Moscow</td>\n",
       "      <td>14:07:09</td>\n",
       "      <td>Friday</td>\n",
       "    </tr>\n",
       "    <tr>\n",
       "      <td>2</td>\n",
       "      <td>20EC38</td>\n",
       "      <td>Funiculì funiculà</td>\n",
       "      <td>Mario Lanza</td>\n",
       "      <td>pop</td>\n",
       "      <td>Saint-Petersburg</td>\n",
       "      <td>20:58:07</td>\n",
       "      <td>Wednesday</td>\n",
       "    </tr>\n",
       "    <tr>\n",
       "      <td>3</td>\n",
       "      <td>A3DD03C9</td>\n",
       "      <td>Dragons in the Sunset</td>\n",
       "      <td>Fire + Ice</td>\n",
       "      <td>folk</td>\n",
       "      <td>Saint-Petersburg</td>\n",
       "      <td>08:37:09</td>\n",
       "      <td>Monday</td>\n",
       "    </tr>\n",
       "    <tr>\n",
       "      <td>4</td>\n",
       "      <td>E2DC1FAE</td>\n",
       "      <td>Soul People</td>\n",
       "      <td>Space Echo</td>\n",
       "      <td>dance</td>\n",
       "      <td>Moscow</td>\n",
       "      <td>08:34:34</td>\n",
       "      <td>Monday</td>\n",
       "    </tr>\n",
       "    <tr>\n",
       "      <td>5</td>\n",
       "      <td>842029A1</td>\n",
       "      <td>Преданная</td>\n",
       "      <td>IMPERVTOR</td>\n",
       "      <td>rusrap</td>\n",
       "      <td>Saint-Petersburg</td>\n",
       "      <td>13:09:41</td>\n",
       "      <td>Friday</td>\n",
       "    </tr>\n",
       "    <tr>\n",
       "      <td>6</td>\n",
       "      <td>4CB90AA5</td>\n",
       "      <td>True</td>\n",
       "      <td>Roman Messer</td>\n",
       "      <td>dance</td>\n",
       "      <td>Moscow</td>\n",
       "      <td>13:00:07</td>\n",
       "      <td>Wednesday</td>\n",
       "    </tr>\n",
       "    <tr>\n",
       "      <td>7</td>\n",
       "      <td>F03E1C1F</td>\n",
       "      <td>Feeling This Way</td>\n",
       "      <td>Polina Griffith</td>\n",
       "      <td>dance</td>\n",
       "      <td>Moscow</td>\n",
       "      <td>20:47:49</td>\n",
       "      <td>Wednesday</td>\n",
       "    </tr>\n",
       "    <tr>\n",
       "      <td>8</td>\n",
       "      <td>8FA1D3BE</td>\n",
       "      <td>И вновь продолжается бой</td>\n",
       "      <td>NaN</td>\n",
       "      <td>ruspop</td>\n",
       "      <td>Moscow</td>\n",
       "      <td>09:17:40</td>\n",
       "      <td>Friday</td>\n",
       "    </tr>\n",
       "    <tr>\n",
       "      <td>9</td>\n",
       "      <td>E772D5C0</td>\n",
       "      <td>Pessimist</td>\n",
       "      <td>NaN</td>\n",
       "      <td>dance</td>\n",
       "      <td>Saint-Petersburg</td>\n",
       "      <td>21:20:49</td>\n",
       "      <td>Wednesday</td>\n",
       "    </tr>\n",
       "  </tbody>\n",
       "</table>\n",
       "</div>"
      ],
      "text/plain": [
       "     userID                        Track            artist   genre  \\\n",
       "0  FFB692EC            Kamigata To Boots  The Mass Missile    rock   \n",
       "1  55204538  Delayed Because of Accident  Andreas Rönnberg    rock   \n",
       "2    20EC38            Funiculì funiculà       Mario Lanza     pop   \n",
       "3  A3DD03C9        Dragons in the Sunset        Fire + Ice    folk   \n",
       "4  E2DC1FAE                  Soul People        Space Echo   dance   \n",
       "5  842029A1                    Преданная         IMPERVTOR  rusrap   \n",
       "6  4CB90AA5                         True      Roman Messer   dance   \n",
       "7  F03E1C1F             Feeling This Way   Polina Griffith   dance   \n",
       "8  8FA1D3BE     И вновь продолжается бой               NaN  ruspop   \n",
       "9  E772D5C0                    Pessimist               NaN   dance   \n",
       "\n",
       "             City        time        Day  \n",
       "0  Saint-Petersburg  20:28:33  Wednesday  \n",
       "1            Moscow  14:07:09     Friday  \n",
       "2  Saint-Petersburg  20:58:07  Wednesday  \n",
       "3  Saint-Petersburg  08:37:09     Monday  \n",
       "4            Moscow  08:34:34     Monday  \n",
       "5  Saint-Petersburg  13:09:41     Friday  \n",
       "6            Moscow  13:00:07  Wednesday  \n",
       "7            Moscow  20:47:49  Wednesday  \n",
       "8            Moscow  09:17:40     Friday  \n",
       "9  Saint-Petersburg  21:20:49  Wednesday  "
      ]
     },
     "execution_count": 3,
     "metadata": {},
     "output_type": "execute_result"
    }
   ],
   "source": [
    "# получение первых 10 строк таблицы df\n",
    "df.head(10)"
   ]
  },
  {
   "cell_type": "markdown",
   "metadata": {
    "id": "EO73Kwic_Zct"
   },
   "source": [
    "Одной командой получить общую информацию о таблице:"
   ]
  },
  {
   "cell_type": "code",
   "execution_count": 4,
   "metadata": {
    "id": "DSf2kIb-_Zct"
   },
   "outputs": [
    {
     "name": "stdout",
     "output_type": "stream",
     "text": [
      "<class 'pandas.core.frame.DataFrame'>\n",
      "RangeIndex: 65079 entries, 0 to 65078\n",
      "Data columns (total 7 columns):\n",
      "  userID    65079 non-null object\n",
      "Track       63848 non-null object\n",
      "artist      57876 non-null object\n",
      "genre       63881 non-null object\n",
      "  City      65079 non-null object\n",
      "time        65079 non-null object\n",
      "Day         65079 non-null object\n",
      "dtypes: object(7)\n",
      "memory usage: 3.5+ MB\n"
     ]
    }
   ],
   "source": [
    "# получение общей информации о данных в таблице df\n",
    "df.info()"
   ]
  },
  {
   "cell_type": "markdown",
   "metadata": {
    "id": "TaQ2Iwbr_Zct"
   },
   "source": [
    "Итак, в таблице семь столбцов. Тип данных во всех столбцах — `object`.\n",
    "\n",
    "Согласно документации к данным:\n",
    "* `userID` — идентификатор пользователя;\n",
    "* `Track` — название трека;  \n",
    "* `artist` — имя исполнителя;\n",
    "* `genre` — название жанра;\n",
    "* `City` — город пользователя;\n",
    "* `time` — время начала прослушивания;\n",
    "* `Day` — день недели.\n",
    "\n",
    "В названиях колонок видны три нарушения стиля:\n",
    "1. Строчные буквы сочетаются с прописными.\n",
    "2. Встречаются пробелы.\n",
    "3. Не используется \"змеиный_регистр\" в названии столбца \"userID\".\n",
    "\n",
    "\n",
    "\n",
    "Количество значений в столбцах различается. Значит, в данных есть пропущенные значения.\n"
   ]
  },
  {
   "cell_type": "markdown",
   "metadata": {
    "id": "MCB6-dXG_Zct"
   },
   "source": [
    "**Выводы**\n",
    "\n",
    "В каждой строке таблицы — данные о прослушанном треке. Часть колонок описывает саму композицию: название, исполнителя и жанр. Остальные данные рассказывают о пользователе: из какого он города, когда он слушал музыку. \n",
    "\n",
    "Предварительно можно утверждать, что, данных достаточно для проверки гипотез. Но встречаются пропуски в данных, а в названиях колонок — расхождения с хорошим стилем.\n",
    "\n",
    "Чтобы двигаться дальше, нужно устранить проблемы в данных."
   ]
  },
  {
   "cell_type": "markdown",
   "metadata": {
    "id": "SjYF6Ub9_Zct"
   },
   "source": [
    "## Предобработка данных\n",
    "Исправим стиль в заголовках столбцов, исключим пропуски. Затем проверим данные на дубликаты."
   ]
  },
  {
   "cell_type": "markdown",
   "metadata": {
    "id": "dIaKXr29_Zct"
   },
   "source": [
    "### Стиль заголовков\n",
    "Выведем на экран названия столбцов:"
   ]
  },
  {
   "cell_type": "code",
   "execution_count": 5,
   "metadata": {
    "id": "oKOTdF_Q_Zct"
   },
   "outputs": [
    {
     "data": {
      "text/plain": [
       "Index(['  userID', 'Track', 'artist', 'genre', '  City  ', 'time', 'Day'], dtype='object')"
      ]
     },
     "execution_count": 5,
     "metadata": {},
     "output_type": "execute_result"
    }
   ],
   "source": [
    "# перечень названий столбцов таблицы df\n",
    "df.columns"
   ]
  },
  {
   "cell_type": "markdown",
   "metadata": {
    "id": "zj5534cv_Zct"
   },
   "source": [
    "Приведем названия в соответствие с хорошим стилем:\n",
    "* несколько слов в названии запишем в «змеином_регистре»,\n",
    "* все символы сделаем строчными,\n",
    "* устраним пробелы."
   ]
  },
  {
   "cell_type": "code",
   "execution_count": 6,
   "metadata": {
    "id": "ISlFqs5y_Zct"
   },
   "outputs": [],
   "source": [
    "# переименование столбцов\n",
    "# лдя переименования столбцов вызываем метод датафреймов rename()\n",
    "df = df.rename(columns={\n",
    "    '  userID': 'user_id',\n",
    "    'Track': 'track',\n",
    "    '  City  ': 'city',\n",
    "    'Day': 'day' \n",
    "}\n",
    "              )"
   ]
  },
  {
   "cell_type": "markdown",
   "metadata": {
    "id": "1dqbh00J_Zct"
   },
   "source": [
    "Проверим результат. Для этого ещё раз выведем на экран названия столбцов:"
   ]
  },
  {
   "cell_type": "code",
   "execution_count": 7,
   "metadata": {
    "id": "d4NOAmTW_Zct"
   },
   "outputs": [
    {
     "data": {
      "text/plain": [
       "Index(['user_id', 'track', 'artist', 'genre', 'city', 'time', 'day'], dtype='object')"
      ]
     },
     "execution_count": 7,
     "metadata": {},
     "output_type": "execute_result"
    }
   ],
   "source": [
    "# проверка результатов - перечень названий столбцов\n",
    "df.columns"
   ]
  },
  {
   "cell_type": "markdown",
   "metadata": {
    "id": "5ISfbcfY_Zct"
   },
   "source": [
    "### Пропуски значений\n",
    "Сначала посчитаем, сколько в таблице пропущенных значений. Для этого достаточно двух методов `pandas`:"
   ]
  },
  {
   "cell_type": "code",
   "execution_count": 8,
   "metadata": {
    "id": "RskX29qr_Zct"
   },
   "outputs": [
    {
     "data": {
      "text/plain": [
       "user_id       0\n",
       "track      1231\n",
       "artist     7203\n",
       "genre      1198\n",
       "city          0\n",
       "time          0\n",
       "day           0\n",
       "dtype: int64"
      ]
     },
     "execution_count": 8,
     "metadata": {},
     "output_type": "execute_result"
    }
   ],
   "source": [
    "# подсчёт пропусков\n",
    "df.isna().sum()"
   ]
  },
  {
   "cell_type": "markdown",
   "metadata": {
    "id": "qubhgnlO_Zct"
   },
   "source": [
    "Не все пропущенные значения влияют на исследование. Так в `track` и `artist` пропуски не важны для вашей работы. Достаточно заменить их явными обозначениями.\n",
    "\n",
    "Но пропуски в `genre` могут помешать сравнению музыкальных вкусов в Москве и Санкт-Петербурге. На практике было бы правильно установить причину пропусков и восстановить данные. Такой возможности нет в учебном проекте. Придётся:\n",
    "* заполнить и эти пропуски явными обозначениями,\n",
    "* оценить, насколько они повредят расчётам. "
   ]
  },
  {
   "cell_type": "markdown",
   "metadata": {
    "id": "fSv2laPA_Zct"
   },
   "source": [
    "Заменим пропущенные значения в столбцах `track`, `artist` и `genre` на строку `'unknown'`. Для этого создадим список `columns_to_replace`, переберем его элементы циклом `for` и для каждого столбца выполним замену пропущенных значений:"
   ]
  },
  {
   "cell_type": "code",
   "execution_count": 9,
   "metadata": {
    "id": "KplB5qWs_Zct"
   },
   "outputs": [],
   "source": [
    "# перебор названий столбцов в цикле и замена пропущенных значений на 'unknown'\n",
    "columns_to_replace = ['track', 'artist', 'genre']  # создаем список колонок, в которых будем заменять пропуски \n",
    "for column in columns_to_replace:  # перебираем колонки\n",
    "    df[column] = df[column].fillna('unknown')  # заменяем пропущенные значения на 'unknown'"
   ]
  },
  {
   "cell_type": "markdown",
   "metadata": {
    "id": "Ilsm-MZo_Zct"
   },
   "source": [
    "Убедимся, что в таблице не осталось пропусков. Для этого ещё раз посчитаем пропущенные значения."
   ]
  },
  {
   "cell_type": "code",
   "execution_count": 10,
   "metadata": {
    "id": "Tq4nYRX4_Zct"
   },
   "outputs": [
    {
     "data": {
      "text/plain": [
       "user_id    0\n",
       "track      0\n",
       "artist     0\n",
       "genre      0\n",
       "city       0\n",
       "time       0\n",
       "day        0\n",
       "dtype: int64"
      ]
     },
     "execution_count": 10,
     "metadata": {},
     "output_type": "execute_result"
    }
   ],
   "source": [
    "# подсчёт пропусков\n",
    "df.isna().sum()"
   ]
  },
  {
   "cell_type": "markdown",
   "metadata": {
    "id": "BWKRtBJ3_Zct"
   },
   "source": [
    "### Дубликаты\n",
    "Посчитаем явные дубликаты в таблице одной командой:"
   ]
  },
  {
   "cell_type": "code",
   "execution_count": 11,
   "metadata": {
    "id": "36eES_S0_Zct"
   },
   "outputs": [
    {
     "data": {
      "text/plain": [
       "3826"
      ]
     },
     "execution_count": 11,
     "metadata": {},
     "output_type": "execute_result"
    }
   ],
   "source": [
    "# подсчёт явных дубликатов\n",
    "df.duplicated().sum()"
   ]
  },
  {
   "cell_type": "markdown",
   "metadata": {
    "id": "Ot25h6XR_Zct"
   },
   "source": [
    "Вызовем специальный метод `pandas`, чтобы удалить явные дубликаты:"
   ]
  },
  {
   "cell_type": "code",
   "execution_count": 12,
   "metadata": {
    "id": "exFHq6tt_Zct"
   },
   "outputs": [],
   "source": [
    "# удаление явных дубликатов (с удалением старых индексов и формированием новых)\n",
    "df = df.drop_duplicates().reset_index(drop=True)"
   ]
  },
  {
   "cell_type": "markdown",
   "metadata": {
    "id": "Im2YwBEG_Zct"
   },
   "source": [
    "Ещё раз посчитаем явные дубликаты в таблице — убедимся, что полностью от них избавились:"
   ]
  },
  {
   "cell_type": "code",
   "execution_count": 13,
   "metadata": {
    "id": "-8PuNWQ0_Zct"
   },
   "outputs": [
    {
     "data": {
      "text/plain": [
       "0"
      ]
     },
     "execution_count": 13,
     "metadata": {},
     "output_type": "execute_result"
    }
   ],
   "source": [
    "# проверка на отсутствие дубликатов\n",
    "df.duplicated().sum()"
   ]
  },
  {
   "cell_type": "markdown",
   "metadata": {
    "id": "QlFBsxAr_Zct"
   },
   "source": [
    "Теперь избавимся от неявных дубликатов в колонке `genre`. Например, название одного и того же жанра может быть записано немного по-разному. Такие ошибки тоже повлияют на результат исследования."
   ]
  },
  {
   "cell_type": "markdown",
   "metadata": {
    "id": "eSjWwsOh_Zct"
   },
   "source": [
    "Выведем на экран список уникальных названий жанров, отсортированный в алфавитном порядке."
   ]
  },
  {
   "cell_type": "code",
   "execution_count": 14,
   "metadata": {
    "id": "JIUcqzZN_Zct"
   },
   "outputs": [
    {
     "data": {
      "text/plain": [
       "array(['acid', 'acoustic', 'action', 'adult', 'africa', 'afrikaans',\n",
       "       'alternative', 'alternativepunk', 'ambient', 'americana',\n",
       "       'animated', 'anime', 'arabesk', 'arabic', 'arena',\n",
       "       'argentinetango', 'art', 'audiobook', 'author', 'avantgarde',\n",
       "       'axé', 'baile', 'balkan', 'beats', 'bigroom', 'black', 'bluegrass',\n",
       "       'blues', 'bollywood', 'bossa', 'brazilian', 'breakbeat', 'breaks',\n",
       "       'broadway', 'cantautori', 'cantopop', 'canzone', 'caribbean',\n",
       "       'caucasian', 'celtic', 'chamber', 'chanson', 'children', 'chill',\n",
       "       'chinese', 'choral', 'christian', 'christmas', 'classical',\n",
       "       'classicmetal', 'club', 'colombian', 'comedy', 'conjazz',\n",
       "       'contemporary', 'country', 'cuban', 'dance', 'dancehall',\n",
       "       'dancepop', 'dark', 'death', 'deep', 'deutschrock', 'deutschspr',\n",
       "       'dirty', 'disco', 'dnb', 'documentary', 'downbeat', 'downtempo',\n",
       "       'drum', 'dub', 'dubstep', 'eastern', 'easy', 'electronic',\n",
       "       'electropop', 'emo', 'entehno', 'epicmetal', 'estrada', 'ethnic',\n",
       "       'eurofolk', 'european', 'experimental', 'extrememetal', 'fado',\n",
       "       'fairytail', 'film', 'fitness', 'flamenco', 'folk', 'folklore',\n",
       "       'folkmetal', 'folkrock', 'folktronica', 'forró', 'frankreich',\n",
       "       'französisch', 'french', 'funk', 'future', 'gangsta', 'garage',\n",
       "       'german', 'ghazal', 'gitarre', 'glitch', 'gospel', 'gothic',\n",
       "       'grime', 'grunge', 'gypsy', 'handsup', \"hard'n'heavy\", 'hardcore',\n",
       "       'hardstyle', 'hardtechno', 'hip', 'hip-hop', 'hiphop',\n",
       "       'historisch', 'holiday', 'hop', 'horror', 'house', 'hymn', 'idm',\n",
       "       'independent', 'indian', 'indie', 'indipop', 'industrial',\n",
       "       'inspirational', 'instrumental', 'international', 'irish', 'jam',\n",
       "       'japanese', 'jazz', 'jewish', 'jpop', 'jungle', 'k-pop',\n",
       "       'karadeniz', 'karaoke', 'kayokyoku', 'korean', 'laiko', 'latin',\n",
       "       'latino', 'leftfield', 'local', 'lounge', 'loungeelectronic',\n",
       "       'lovers', 'malaysian', 'mandopop', 'marschmusik', 'meditative',\n",
       "       'mediterranean', 'melodic', 'metal', 'metalcore', 'mexican',\n",
       "       'middle', 'minimal', 'miscellaneous', 'modern', 'mood', 'mpb',\n",
       "       'muslim', 'native', 'neoklassik', 'neue', 'new', 'newage',\n",
       "       'newwave', 'nu', 'nujazz', 'numetal', 'oceania', 'old', 'opera',\n",
       "       'orchestral', 'other', 'piano', 'podcasts', 'pop', 'popdance',\n",
       "       'popelectronic', 'popeurodance', 'poprussian', 'post',\n",
       "       'posthardcore', 'postrock', 'power', 'progmetal', 'progressive',\n",
       "       'psychedelic', 'punjabi', 'punk', 'quebecois', 'ragga', 'ram',\n",
       "       'rancheras', 'rap', 'rave', 'reggae', 'reggaeton', 'regional',\n",
       "       'relax', 'religious', 'retro', 'rhythm', 'rnb', 'rnr', 'rock',\n",
       "       'rockabilly', 'rockalternative', 'rockindie', 'rockother',\n",
       "       'romance', 'roots', 'ruspop', 'rusrap', 'rusrock', 'russian',\n",
       "       'salsa', 'samba', 'scenic', 'schlager', 'self', 'sertanejo',\n",
       "       'shanson', 'shoegazing', 'showtunes', 'singer', 'ska', 'skarock',\n",
       "       'slow', 'smooth', 'soft', 'soul', 'soulful', 'sound', 'soundtrack',\n",
       "       'southern', 'specialty', 'speech', 'spiritual', 'sport',\n",
       "       'stonerrock', 'surf', 'swing', 'synthpop', 'synthrock',\n",
       "       'sängerportrait', 'tango', 'tanzorchester', 'taraftar', 'tatar',\n",
       "       'tech', 'techno', 'teen', 'thrash', 'top', 'traditional',\n",
       "       'tradjazz', 'trance', 'tribal', 'trip', 'triphop', 'tropical',\n",
       "       'türk', 'türkçe', 'ukrrock', 'unknown', 'urban', 'uzbek',\n",
       "       'variété', 'vi', 'videogame', 'vocal', 'western', 'world',\n",
       "       'worldbeat', 'ïîï', 'электроника'], dtype=object)"
      ]
     },
     "execution_count": 14,
     "metadata": {},
     "output_type": "execute_result"
    }
   ],
   "source": [
    "# Просмотр уникальных названий жанров\n",
    "genre_name = df['genre']  # извлекли нужный столбец датафрейма\n",
    "genre_name = df['genre'].sort_values().unique()  # применили к нему метод сортировки (сортируем Series, поэтому не используем атрибут by) и вызвали метод, возвращающий уникальные значения столбца\n",
    "genre_name"
   ]
  },
  {
   "cell_type": "markdown",
   "metadata": {
    "id": "qej-Qmuo_Zct"
   },
   "source": [
    "Просмотрим список и найдем неявные дубликаты названия `hiphop`. Это могут быть названия с ошибками или альтернативные названия того же жанра.\n",
    "\n",
    "Видим следующие неявные дубликаты:\n",
    "* *hip*,\n",
    "* *hop*,\n",
    "* *hip-hop*.\n",
    "\n",
    "Чтобы очистить от них таблицу, напишем функцию `replace_wrong_genres()` с двумя параметрами: \n",
    "* `wrong_genres` — список дубликатов,\n",
    "* `correct_genre` — строка с правильным значением.\n",
    "\n",
    "Функция исправит колонку `genre` в таблице `df`: заменить каждое значение из списка `wrong_genres` на значение из `correct_genre`."
   ]
  },
  {
   "cell_type": "code",
   "execution_count": 15,
   "metadata": {
    "id": "ErNDkmns_Zct"
   },
   "outputs": [],
   "source": [
    "# Функция для замены неявных дубликатов\n",
    "def replace_wrong_genres(wrong_genres, correct_genre):  # подаем на вход функции два параметра - список дубликатов и строку с правильным названием\n",
    "    for wrong_genre in wrong_genres:  # перебираем неправильные имена\n",
    "        df['genre'] = df['genre'].replace(wrong_genre, correct_genre)  # заменяем неправильное название правильным методом replace()"
   ]
  },
  {
   "cell_type": "markdown",
   "metadata": {
    "id": "aDoBJxbA_Zct"
   },
   "source": [
    "Вызовем `replace_wrong_genres()` и передим ей такие аргументы, чтобы она устранила неявные дубликаты: вместо `hip`, `hop` и `hip-hop` в таблице должно быть значение `hiphop`:"
   ]
  },
  {
   "cell_type": "code",
   "execution_count": 16,
   "metadata": {
    "id": "YN5i2hpmSo09"
   },
   "outputs": [],
   "source": [
    "# Устранение неявных дубликатов\n",
    "duplicates = ['hip', 'hop', 'hip-hop']  # список неправильных имен\n",
    "new_name = 'hiphop'  # правильное имя\n",
    "replace_wrong_genres(duplicates, new_name)  # вызываем функцию для замены неявных дубликатов"
   ]
  },
  {
   "cell_type": "markdown",
   "metadata": {
    "id": "zQKF16_RG15m"
   },
   "source": [
    "Проверим, что заменили неправильные названия:\n",
    "\n",
    "*   hip\n",
    "*   hop\n",
    "*   hip-hop\n",
    "\n",
    "Выведем отсортированный список уникальных значений столбца `genre`:"
   ]
  },
  {
   "cell_type": "code",
   "execution_count": 17,
   "metadata": {
    "id": "wvixALnFG15m"
   },
   "outputs": [
    {
     "data": {
      "text/plain": [
       "array(['acid', 'acoustic', 'action', 'adult', 'africa', 'afrikaans',\n",
       "       'alternative', 'alternativepunk', 'ambient', 'americana',\n",
       "       'animated', 'anime', 'arabesk', 'arabic', 'arena',\n",
       "       'argentinetango', 'art', 'audiobook', 'author', 'avantgarde',\n",
       "       'axé', 'baile', 'balkan', 'beats', 'bigroom', 'black', 'bluegrass',\n",
       "       'blues', 'bollywood', 'bossa', 'brazilian', 'breakbeat', 'breaks',\n",
       "       'broadway', 'cantautori', 'cantopop', 'canzone', 'caribbean',\n",
       "       'caucasian', 'celtic', 'chamber', 'chanson', 'children', 'chill',\n",
       "       'chinese', 'choral', 'christian', 'christmas', 'classical',\n",
       "       'classicmetal', 'club', 'colombian', 'comedy', 'conjazz',\n",
       "       'contemporary', 'country', 'cuban', 'dance', 'dancehall',\n",
       "       'dancepop', 'dark', 'death', 'deep', 'deutschrock', 'deutschspr',\n",
       "       'dirty', 'disco', 'dnb', 'documentary', 'downbeat', 'downtempo',\n",
       "       'drum', 'dub', 'dubstep', 'eastern', 'easy', 'electronic',\n",
       "       'electropop', 'emo', 'entehno', 'epicmetal', 'estrada', 'ethnic',\n",
       "       'eurofolk', 'european', 'experimental', 'extrememetal', 'fado',\n",
       "       'fairytail', 'film', 'fitness', 'flamenco', 'folk', 'folklore',\n",
       "       'folkmetal', 'folkrock', 'folktronica', 'forró', 'frankreich',\n",
       "       'französisch', 'french', 'funk', 'future', 'gangsta', 'garage',\n",
       "       'german', 'ghazal', 'gitarre', 'glitch', 'gospel', 'gothic',\n",
       "       'grime', 'grunge', 'gypsy', 'handsup', \"hard'n'heavy\", 'hardcore',\n",
       "       'hardstyle', 'hardtechno', 'hiphop', 'historisch', 'holiday',\n",
       "       'horror', 'house', 'hymn', 'idm', 'independent', 'indian', 'indie',\n",
       "       'indipop', 'industrial', 'inspirational', 'instrumental',\n",
       "       'international', 'irish', 'jam', 'japanese', 'jazz', 'jewish',\n",
       "       'jpop', 'jungle', 'k-pop', 'karadeniz', 'karaoke', 'kayokyoku',\n",
       "       'korean', 'laiko', 'latin', 'latino', 'leftfield', 'local',\n",
       "       'lounge', 'loungeelectronic', 'lovers', 'malaysian', 'mandopop',\n",
       "       'marschmusik', 'meditative', 'mediterranean', 'melodic', 'metal',\n",
       "       'metalcore', 'mexican', 'middle', 'minimal', 'miscellaneous',\n",
       "       'modern', 'mood', 'mpb', 'muslim', 'native', 'neoklassik', 'neue',\n",
       "       'new', 'newage', 'newwave', 'nu', 'nujazz', 'numetal', 'oceania',\n",
       "       'old', 'opera', 'orchestral', 'other', 'piano', 'podcasts', 'pop',\n",
       "       'popdance', 'popelectronic', 'popeurodance', 'poprussian', 'post',\n",
       "       'posthardcore', 'postrock', 'power', 'progmetal', 'progressive',\n",
       "       'psychedelic', 'punjabi', 'punk', 'quebecois', 'ragga', 'ram',\n",
       "       'rancheras', 'rap', 'rave', 'reggae', 'reggaeton', 'regional',\n",
       "       'relax', 'religious', 'retro', 'rhythm', 'rnb', 'rnr', 'rock',\n",
       "       'rockabilly', 'rockalternative', 'rockindie', 'rockother',\n",
       "       'romance', 'roots', 'ruspop', 'rusrap', 'rusrock', 'russian',\n",
       "       'salsa', 'samba', 'scenic', 'schlager', 'self', 'sertanejo',\n",
       "       'shanson', 'shoegazing', 'showtunes', 'singer', 'ska', 'skarock',\n",
       "       'slow', 'smooth', 'soft', 'soul', 'soulful', 'sound', 'soundtrack',\n",
       "       'southern', 'specialty', 'speech', 'spiritual', 'sport',\n",
       "       'stonerrock', 'surf', 'swing', 'synthpop', 'synthrock',\n",
       "       'sängerportrait', 'tango', 'tanzorchester', 'taraftar', 'tatar',\n",
       "       'tech', 'techno', 'teen', 'thrash', 'top', 'traditional',\n",
       "       'tradjazz', 'trance', 'tribal', 'trip', 'triphop', 'tropical',\n",
       "       'türk', 'türkçe', 'ukrrock', 'unknown', 'urban', 'uzbek',\n",
       "       'variété', 'vi', 'videogame', 'vocal', 'western', 'world',\n",
       "       'worldbeat', 'ïîï', 'электроника'], dtype=object)"
      ]
     },
     "execution_count": 17,
     "metadata": {},
     "output_type": "execute_result"
    }
   ],
   "source": [
    "# Проверка на неявные дубликаты\n",
    "df['genre'].sort_values().unique()"
   ]
  },
  {
   "cell_type": "markdown",
   "metadata": {
    "id": "jz6a9-7HQUDd"
   },
   "source": [
    "**Выводы**\n",
    "\n",
    "Предобработка обнаружила три проблемы в данных:\n",
    "\n",
    "- нарушения в стиле заголовков,\n",
    "- пропущенные значения,\n",
    "- дубликаты — явные и неявные.\n",
    "\n",
    "Вы исправили заголовки, чтобы упростить работу с таблицей. Без дубликатов исследование станет более точным.\n",
    "\n",
    "Пропущенные значения вы заменили на `'unknown'`. Ещё предстоит увидеть, не повредят ли исследованию пропуски в колонке `genre`.\n",
    "\n",
    "Теперь можно перейти к проверке гипотез. "
   ]
  },
  {
   "cell_type": "markdown",
   "metadata": {
    "id": "WttZHXH0SqKk"
   },
   "source": [
    "## Проверка гипотез"
   ]
  },
  {
   "cell_type": "markdown",
   "metadata": {
    "id": "Im936VVi_Zcu"
   },
   "source": [
    "### Сравнение поведения пользователей двух столиц"
   ]
  },
  {
   "cell_type": "markdown",
   "metadata": {
    "id": "nwt_MuaL_Zcu"
   },
   "source": [
    "Первая гипотеза утверждает, что пользователи по-разному слушают музыку в Москве и Санкт-Петербурге. Проверим это предположение по данным о трёх днях недели — понедельнике, среде и пятнице. Для этого:\n",
    "\n",
    "* Разделим пользователей Москвы и Санкт-Петербурга\n",
    "* Сравним, сколько треков послушала каждая группа пользователей в понедельник, среду и пятницу.\n"
   ]
  },
  {
   "cell_type": "markdown",
   "metadata": {
    "id": "8Dw_YMmT_Zcu"
   },
   "source": [
    "Для тренировки сначала выполним каждый из расчётов по отдельности. \n",
    "\n",
    "Оценим активность пользователей в каждом городе. Сгруппируем данные по городу и посчитаем прослушивания в каждой группе.\n",
    "\n"
   ]
  },
  {
   "cell_type": "code",
   "execution_count": 18,
   "metadata": {
    "id": "0_Qs96oh_Zcu"
   },
   "outputs": [
    {
     "data": {
      "text/plain": [
       "city\n",
       "Moscow              42741\n",
       "Saint-Petersburg    18512\n",
       "Name: genre, dtype: int64"
      ]
     },
     "execution_count": 18,
     "metadata": {},
     "output_type": "execute_result"
    }
   ],
   "source": [
    "# Подсчёт прослушиваний в каждом городе\n",
    "df.groupby('city')['genre'].count()  # посчитали прослушивания по столбцу \"genre\", сгруппировав их по городам"
   ]
  },
  {
   "cell_type": "markdown",
   "metadata": {
    "id": "dzli3w8o_Zcu"
   },
   "source": [
    "В Москве прослушиваний больше, чем в Петербурге. Из этого не следует, что московские пользователи чаще слушают музыку. Просто самих пользователей в Москве больше.\n",
    "\n",
    "Теперь сгруппируем данные по дню недели и подсчитайте прослушивания в понедельник, среду и пятницу. Учтем, что в данных есть информация только о прослушиваниях только за эти дни.\n"
   ]
  },
  {
   "cell_type": "code",
   "execution_count": 19,
   "metadata": {
    "id": "uZMKjiJz_Zcu"
   },
   "outputs": [
    {
     "data": {
      "text/plain": [
       "day\n",
       "Friday       21840\n",
       "Monday       21354\n",
       "Wednesday    18059\n",
       "Name: genre, dtype: int64"
      ]
     },
     "execution_count": 19,
     "metadata": {},
     "output_type": "execute_result"
    }
   ],
   "source": [
    "# Подсчёт прослушиваний в каждый из трёх дней\n",
    "df.groupby('day')['genre'].count()  # также посчитали значения по столбцу \"genre\", сгруппировав их по городам"
   ]
  },
  {
   "cell_type": "markdown",
   "metadata": {
    "id": "cC2tNrlL_Zcu"
   },
   "source": [
    "В среднем пользователи из двух городов менее активны по средам. Но картина может измениться, если рассмотреть каждый город в отдельности."
   ]
  },
  {
   "cell_type": "markdown",
   "metadata": {
    "id": "POzs8bGa_Zcu"
   },
   "source": [
    "Мы посмотрели, как работает группировка по городу и по дням недели. Теперь напишем функцию, которая объединит два эти расчёта.\n",
    "\n",
    "Создадим функцию `number_tracks()`, которая посчитает прослушивания для заданного дня и города. Ей понадобятся два параметра:\n",
    "* день недели,\n",
    "* название города.\n",
    "\n",
    "В функции сохраним в переменную строки исходной таблицы, у которых значение:\n",
    "  * в колонке `day` равно параметру `day`,\n",
    "  * в колонке `city` равно параметру `city`.\n",
    "\n",
    "Для этого применим последовательную фильтрацию с логической индексацией.\n",
    "\n",
    "Затем посчитаем значения в столбце `user_id` получившейся таблицы. Результат сохраним в новую переменную. Вернем эту переменную из функции."
   ]
  },
  {
   "cell_type": "code",
   "execution_count": 20,
   "metadata": {
    "id": "Nz3GdQB1_Zcu"
   },
   "outputs": [],
   "source": [
    "# <создание функции number_tracks()>\n",
    "def number_tracks(day, city):  \n",
    "    \"\"\"\n",
    "    Объявляется функция с двумя параметрами: day, city.\n",
    "    В переменной track_list сохраняются те строки таблицы df, для которых \n",
    "    значение в столбце 'day' равно параметру day и одновременно значение\n",
    "    в столбце 'city' равно параметру city (используйте последовательную фильтрацию\n",
    "    с помощью логической индексации).\n",
    "    \"\"\"\n",
    "\n",
    "    track_list = df[(df['day'] == day) & (df['city'] == city)]\n",
    "    \n",
    "    \"\"\"\n",
    "    В переменной track_list_count сохраняется число значений столбца 'user_id',\n",
    "    рассчитанное методом count() для таблицы track_list.\n",
    "    \"\"\"\n",
    "\n",
    "    track_list_count = track_list['user_id'].count()\n",
    "    # Функция возвращает число - значение track_list_count.\n",
    "    return track_list_count"
   ]
  },
  {
   "cell_type": "markdown",
   "metadata": {},
   "source": [
    "Выше мы создали функцию для подсчёта прослушиваний для конкретного города и дня.\n",
    "С помощью последовательной фильтрации с логической индексацией она сначала получит из исходной таблицы строки с нужным днём, затем из результата отфильтрует строки с нужным городом,методом count() посчитает количество значений в колонке user_id. \n",
    "Это количество функция вернёт в качестве результата."
   ]
  },
  {
   "cell_type": "markdown",
   "metadata": {
    "id": "ytf7xFrFJQ2r"
   },
   "source": [
    "Вызовем `number_tracks()` шесть раз, меняя значение параметров — так, чтобы получить данные для каждого города в каждый из трёх дней."
   ]
  },
  {
   "cell_type": "code",
   "execution_count": 21,
   "metadata": {
    "id": "rJcRATNQ_Zcu"
   },
   "outputs": [
    {
     "data": {
      "text/plain": [
       "15740"
      ]
     },
     "execution_count": 21,
     "metadata": {},
     "output_type": "execute_result"
    }
   ],
   "source": [
    "# количество прослушиваний в Москве по понедельникам\n",
    "mon_msk = number_tracks('Monday', 'Moscow')\n",
    "mon_msk"
   ]
  },
  {
   "cell_type": "code",
   "execution_count": 22,
   "metadata": {
    "id": "hq_ncZ5T_Zcu"
   },
   "outputs": [
    {
     "data": {
      "text/plain": [
       "5614"
      ]
     },
     "execution_count": 22,
     "metadata": {},
     "output_type": "execute_result"
    }
   ],
   "source": [
    "# количество прослушиваний в Санкт-Петербурге по понедельникам\n",
    "mon_spb = number_tracks('Monday', 'Saint-Petersburg')\n",
    "mon_spb"
   ]
  },
  {
   "cell_type": "code",
   "execution_count": 23,
   "metadata": {
    "id": "_NTy2VPU_Zcu"
   },
   "outputs": [
    {
     "data": {
      "text/plain": [
       "11056"
      ]
     },
     "execution_count": 23,
     "metadata": {},
     "output_type": "execute_result"
    }
   ],
   "source": [
    "# количество прослушиваний в Москве по средам\n",
    "wed_msk = number_tracks('Wednesday', 'Moscow')\n",
    "wed_msk"
   ]
  },
  {
   "cell_type": "code",
   "execution_count": 24,
   "metadata": {
    "id": "j2y3TAwo_Zcu"
   },
   "outputs": [
    {
     "data": {
      "text/plain": [
       "7003"
      ]
     },
     "execution_count": 24,
     "metadata": {},
     "output_type": "execute_result"
    }
   ],
   "source": [
    "# количество прослушиваний в Санкт-Петербурге по средам\n",
    "wed_spb = number_tracks('Wednesday', 'Saint-Petersburg')\n",
    "wed_spb"
   ]
  },
  {
   "cell_type": "code",
   "execution_count": 25,
   "metadata": {
    "id": "vYDw5u_K_Zcu"
   },
   "outputs": [
    {
     "data": {
      "text/plain": [
       "15945"
      ]
     },
     "execution_count": 25,
     "metadata": {},
     "output_type": "execute_result"
    }
   ],
   "source": [
    "# количество прослушиваний в Москве по пятницам\n",
    "fri_msk = number_tracks('Friday', 'Moscow')\n",
    "fri_msk"
   ]
  },
  {
   "cell_type": "code",
   "execution_count": 26,
   "metadata": {
    "id": "8_yzFtW3_Zcu"
   },
   "outputs": [
    {
     "data": {
      "text/plain": [
       "5895"
      ]
     },
     "execution_count": 26,
     "metadata": {},
     "output_type": "execute_result"
    }
   ],
   "source": [
    "# количество прослушиваний в Санкт-Петербурге по пятницам\n",
    "fri_spb = number_tracks('Friday', 'Saint-Petersburg')\n",
    "fri_spb"
   ]
  },
  {
   "cell_type": "markdown",
   "metadata": {
    "id": "7QXffbO-_Zcu"
   },
   "source": [
    "Создадим c помощью конструктора `pd.DataFrame` таблицу, где\n",
    "* названия колонок — `['city', 'monday', 'wednesday', 'friday']`;\n",
    "* данные — результаты, которые вы получили с помощью `number_tracks`."
   ]
  },
  {
   "cell_type": "code",
   "execution_count": 27,
   "metadata": {
    "id": "APAcLpOr_Zcu"
   },
   "outputs": [
    {
     "data": {
      "text/html": [
       "<div>\n",
       "<style scoped>\n",
       "    .dataframe tbody tr th:only-of-type {\n",
       "        vertical-align: middle;\n",
       "    }\n",
       "\n",
       "    .dataframe tbody tr th {\n",
       "        vertical-align: top;\n",
       "    }\n",
       "\n",
       "    .dataframe thead th {\n",
       "        text-align: right;\n",
       "    }\n",
       "</style>\n",
       "<table border=\"1\" class=\"dataframe\">\n",
       "  <thead>\n",
       "    <tr style=\"text-align: right;\">\n",
       "      <th></th>\n",
       "      <th>city</th>\n",
       "      <th>monday</th>\n",
       "      <th>wednesday</th>\n",
       "      <th>friday</th>\n",
       "    </tr>\n",
       "  </thead>\n",
       "  <tbody>\n",
       "    <tr>\n",
       "      <td>0</td>\n",
       "      <td>Moscow</td>\n",
       "      <td>15740</td>\n",
       "      <td>11056</td>\n",
       "      <td>15945</td>\n",
       "    </tr>\n",
       "    <tr>\n",
       "      <td>1</td>\n",
       "      <td>Saint-Petersburg</td>\n",
       "      <td>5614</td>\n",
       "      <td>7003</td>\n",
       "      <td>5895</td>\n",
       "    </tr>\n",
       "  </tbody>\n",
       "</table>\n",
       "</div>"
      ],
      "text/plain": [
       "               city  monday  wednesday  friday\n",
       "0            Moscow   15740      11056   15945\n",
       "1  Saint-Petersburg    5614       7003    5895"
      ]
     },
     "metadata": {},
     "output_type": "display_data"
    }
   ],
   "source": [
    "# Таблица с результатами\n",
    "columns = ['city', 'monday', 'wednesday', 'friday']  # список с названиями колонок\n",
    "number_tracks_city_day = [['Moscow', mon_msk, wed_msk, fri_msk], ['Saint-Petersburg', mon_spb, wed_spb, fri_spb]]  # список списков с городами и количеством прослушиваний по дням недели\n",
    "data_city_day = pd.DataFrame(data=number_tracks_city_day, columns=columns)  # создаем датафрейм по данным выше\n",
    "display(data_city_day)  # выводим датафрейм в виде таблицы на экран"
   ]
  },
  {
   "cell_type": "markdown",
   "metadata": {
    "id": "-EgPIHYu_Zcu"
   },
   "source": [
    "**Выводы**\n",
    "\n",
    "Данные показывают разницу поведения пользователей:\n",
    "\n",
    "- В Москве пик прослушиваний приходится на понедельник и пятницу, а в среду заметен спад.\n",
    "- В Петербурге, наоборот, больше слушают музыку по средам. Активность в понедельник и пятницу здесь почти в равной мере уступает среде.\n",
    "\n",
    "Значит, данные говорят в пользу первой гипотезы."
   ]
  },
  {
   "cell_type": "markdown",
   "metadata": {
    "id": "atZAxtq4_Zcu"
   },
   "source": [
    "### Музыка в начале и в конце недели"
   ]
  },
  {
   "cell_type": "markdown",
   "metadata": {
    "id": "eXrQqXFH_Zcu"
   },
   "source": [
    "Согласно второй гипотезе, утром в понедельник в Москве преобладают одни жанры, а в Петербурге — другие. Так же и вечером пятницы преобладают разные жанры — в зависимости от города."
   ]
  },
  {
   "cell_type": "markdown",
   "metadata": {
    "id": "S8UcW6Hw_Zcu"
   },
   "source": [
    "Сохраним таблицы с данными в две переменные:\n",
    "* по Москве — в `moscow_general`;\n",
    "* по Санкт-Петербургу — в `spb_general`."
   ]
  },
  {
   "cell_type": "code",
   "execution_count": 28,
   "metadata": {
    "id": "qeaFfM_P_Zcu"
   },
   "outputs": [],
   "source": [
    "# получение таблицы moscow_general из тех строк таблицы df, \n",
    "# для которых значение в столбце 'city' равно 'Moscow'\n",
    "moscow_general = df[df['city'] == 'Moscow']"
   ]
  },
  {
   "cell_type": "code",
   "execution_count": 29,
   "metadata": {
    "id": "ORaVRKto_Zcu"
   },
   "outputs": [],
   "source": [
    "# получение таблицы spb_general из тех строк таблицы df,\n",
    "# для которых значение в столбце 'city' равно 'Saint-Petersburg'\n",
    "spb_general = df[df['city'] == 'Saint-Petersburg']"
   ]
  },
  {
   "cell_type": "markdown",
   "metadata": {
    "id": "MEJV-CX2_Zcu"
   },
   "source": [
    "Создадим функцию `genre_weekday()` с четырьмя параметрами:\n",
    "* таблица (датафрейм) с данными,\n",
    "* день недели,\n",
    "* начальная временная метка в формате 'hh:mm', \n",
    "* последняя временная метка в формате 'hh:mm'.\n",
    "\n",
    "Функция вернет информацию о топ-10 жанров тех треков, которые прослушивали в указанный день, в промежутке между двумя отметками времени."
   ]
  },
  {
   "cell_type": "markdown",
   "metadata": {},
   "source": [
    "Далее представлены объявление функции genre_weekday() с параметрами table, day, time1, time2, которая возвращает информацию о самых популярных жанрах в указанный день в заданное время:\n",
    "1) в переменную genre_df сохраняются те строки переданного датафрейма table, для которых одновременно:\n",
    "   - значение в столбце day равно значению аргумента day\n",
    "   - значение в столбце time больше значения аргумента time1\n",
    "   - значение в столбце time меньше значения аргумента time2\n",
    "Используем последовательную фильтрацию с помощью логической индексации.\n",
    "\n",
    "2) сгруппируем датафрейм genre_df по столбцу genre, возьмем один из его столбцов и посчитаем методом count() количество записей для каждого из присутствующих жанров, получившийся Series запишем в переменную genre_df_count\n",
    "\n",
    "3) отсортируем genre_df_count по убыванию встречаемости и сохраним в переменную genre_df_sorted\n",
    "\n",
    "4) вернем Series из 10 первых значений genre_df_sorted, это будут топ-10 популярных жанров (в указанный день, в заданное время)"
   ]
  },
  {
   "cell_type": "code",
   "execution_count": 30,
   "metadata": {
    "id": "laJT9BYl_Zcu"
   },
   "outputs": [],
   "source": [
    "def genre_weekday(table, day, time1, time2):  # объявление функции\n",
    "    genre_df = table[(table['day'] == day) & (table['time'] > time1) & (table['time'] < time2)]  # фильтруем данные с помощью логической индексации\n",
    "    genre_df_count = genre_df.groupby('genre')['city'].count()  # считаем количество записей по столбцу 'city'\n",
    "    genre_df_sorted = genre_df_count.sort_values(ascending=False)  # сортируем Series, поэтому не используем атрибут by, но сортируем по убыванию, поэтому - ascending=False\n",
    "    return genre_df_sorted[:10]  # возвращаем первые 10 отсортированных записей"
   ]
  },
  {
   "cell_type": "markdown",
   "metadata": {
    "id": "la2s2_PF_Zcu"
   },
   "source": [
    "Cравним результаты функции `genre_weekday()` для Москвы и Санкт-Петербурга в понедельник утром (с 7:00 до 11:00) и в пятницу вечером (с 17:00 до 23:00):"
   ]
  },
  {
   "cell_type": "code",
   "execution_count": 31,
   "metadata": {
    "id": "yz7itPUQ_Zcu"
   },
   "outputs": [
    {
     "data": {
      "text/plain": [
       "genre\n",
       "pop            781\n",
       "dance          549\n",
       "electronic     480\n",
       "rock           474\n",
       "hiphop         286\n",
       "ruspop         186\n",
       "world          181\n",
       "rusrap         175\n",
       "alternative    164\n",
       "unknown        161\n",
       "Name: city, dtype: int64"
      ]
     },
     "execution_count": 31,
     "metadata": {},
     "output_type": "execute_result"
    }
   ],
   "source": [
    "# вызов функции для утра понедельника в Москве (вместо df — таблица moscow_general)\n",
    "# объекты, хранящие время, являются строками и сравниваются как строки\n",
    "# пример вызова: genre_weekday(moscow_general, 'Monday', '07:00', '11:00')\n",
    "genre_weekday(moscow_general, 'Monday', '07:00', '11:00')"
   ]
  },
  {
   "cell_type": "code",
   "execution_count": 32,
   "metadata": {
    "id": "kwUcHPdy_Zcu"
   },
   "outputs": [
    {
     "data": {
      "text/plain": [
       "genre\n",
       "pop            218\n",
       "dance          182\n",
       "rock           162\n",
       "electronic     147\n",
       "hiphop          80\n",
       "ruspop          64\n",
       "alternative     58\n",
       "rusrap          55\n",
       "jazz            44\n",
       "classical       40\n",
       "Name: city, dtype: int64"
      ]
     },
     "execution_count": 32,
     "metadata": {},
     "output_type": "execute_result"
    }
   ],
   "source": [
    "# вызов функции для утра понедельника в Петербурге (вместо df — таблица spb_general)\n",
    "genre_weekday(spb_general, 'Monday', '07:00', '11:00')"
   ]
  },
  {
   "cell_type": "code",
   "execution_count": 33,
   "metadata": {
    "id": "EzXVRE1o_Zcu"
   },
   "outputs": [
    {
     "data": {
      "text/plain": [
       "genre\n",
       "pop            713\n",
       "rock           517\n",
       "dance          495\n",
       "electronic     482\n",
       "hiphop         273\n",
       "world          208\n",
       "ruspop         170\n",
       "alternative    163\n",
       "classical      163\n",
       "rusrap         142\n",
       "Name: city, dtype: int64"
      ]
     },
     "execution_count": 33,
     "metadata": {},
     "output_type": "execute_result"
    }
   ],
   "source": [
    "# вызов функции для вечера пятницы в Москве\n",
    "genre_weekday(moscow_general, 'Friday', '17:00', '23:00')"
   ]
  },
  {
   "cell_type": "code",
   "execution_count": 34,
   "metadata": {
    "id": "JZaEKu5v_Zcu"
   },
   "outputs": [
    {
     "data": {
      "text/plain": [
       "genre\n",
       "pop            256\n",
       "rock           216\n",
       "electronic     216\n",
       "dance          210\n",
       "hiphop          97\n",
       "alternative     63\n",
       "jazz            61\n",
       "classical       60\n",
       "rusrap          59\n",
       "world           54\n",
       "Name: city, dtype: int64"
      ]
     },
     "execution_count": 34,
     "metadata": {},
     "output_type": "execute_result"
    }
   ],
   "source": [
    "# вызов функции для вечера пятницы в Петербурге\n",
    "genre_weekday(spb_general, 'Friday', '17:00', '23:00')"
   ]
  },
  {
   "cell_type": "markdown",
   "metadata": {
    "id": "wrCe4MNX_Zcu"
   },
   "source": [
    "**Выводы**\n",
    "\n",
    "Если сравнить топ-10 жанров в понедельник утром, можно сделать такие выводы:\n",
    "\n",
    "1. В Москве и Петербурге слушают похожую музыку. Единственное отличие — в московский рейтинг вошёл жанр “world”, а в петербургский — джаз и классика.\n",
    "\n",
    "2. В Москве пропущенных значений оказалось так много, что значение `'unknown'` заняло десятое место среди самых популярных жанров. Значит, пропущенные значения занимают существенную долю в данных и угрожают достоверности исследования.\n",
    "\n",
    "Вечер пятницы не меняет эту картину. Некоторые жанры поднимаются немного выше, другие спускаются, но в целом топ-10 остаётся тем же самым.\n",
    "\n",
    "Таким образом, вторая гипотеза подтвердилась лишь частично:\n",
    "* Пользователи слушают похожую музыку в начале недели и в конце.\n",
    "* Разница между Москвой и Петербургом не слишком выражена. В Москве чаще слушают русскую популярную музыку, в Петербурге — джаз.\n",
    "\n",
    "Однако пропуски в данных ставят под сомнение этот результат. В Москве их так много, что рейтинг топ-10 мог бы выглядеть иначе, если бы не утерянные  данные о жанрах."
   ]
  },
  {
   "cell_type": "markdown",
   "metadata": {
    "id": "JolODAqr_Zcu"
   },
   "source": [
    "### Жанровые предпочтения в Москве и Петербурге\n",
    "\n",
    "Гипотеза: Петербург — столица рэпа, музыку этого жанра там слушают чаще, чем в Москве.  А Москва — город контрастов, в котором, тем не менее, преобладает поп-музыка."
   ]
  },
  {
   "cell_type": "markdown",
   "metadata": {
    "id": "DlegSvaT_Zcu"
   },
   "source": [
    "Сгруппируем таблицу `moscow_general` по жанру и посчитаем прослушивания треков каждого жанра методом `count()`. Затем отсортируем результат в порядке убывания и сохраним его в таблице `moscow_genres`."
   ]
  },
  {
   "cell_type": "code",
   "execution_count": 35,
   "metadata": {
    "id": "r19lIPke_Zcu"
   },
   "outputs": [],
   "source": [
    "# одной строкой: группировка таблицы moscow_general по столбцу 'genre', \n",
    "# подсчёт числа значений 'genre' в этой группировке методом count(), \n",
    "# сортировка получившегося Series в порядке убывания и сохранение в moscow_genres\n",
    "moscow_genres = moscow_general.groupby('genre')['city'].count().sort_values(ascending=False)"
   ]
  },
  {
   "cell_type": "markdown",
   "metadata": {
    "id": "6kMuomxTiIr8"
   },
   "source": [
    "Выведем на экран первые десять строк `moscow_genres`:"
   ]
  },
  {
   "cell_type": "code",
   "execution_count": 36,
   "metadata": {
    "id": "WhCSooF8_Zcv"
   },
   "outputs": [
    {
     "data": {
      "text/plain": [
       "genre\n",
       "pop            5892\n",
       "dance          4435\n",
       "rock           3965\n",
       "electronic     3786\n",
       "hiphop         2096\n",
       "classical      1616\n",
       "world          1432\n",
       "alternative    1379\n",
       "ruspop         1372\n",
       "rusrap         1161\n",
       "Name: city, dtype: int64"
      ]
     },
     "execution_count": 36,
     "metadata": {},
     "output_type": "execute_result"
    }
   ],
   "source": [
    "# просмотр первых 10 строк moscow_genres\n",
    "moscow_genres.head(10)"
   ]
  },
  {
   "cell_type": "markdown",
   "metadata": {
    "id": "cnPG2vnN_Zcv"
   },
   "source": [
    "Теперь повторим то же и для Петербурга.\n",
    "\n",
    "Сгруппируем таблицу `spb_general` по жанру. Посчитаем прослушивания треков каждого жанра. Результат отсортируем в порядке убывания и сохраним в таблице `spb_genres`:\n"
   ]
  },
  {
   "cell_type": "code",
   "execution_count": 37,
   "metadata": {
    "id": "gluLIpE7_Zcv"
   },
   "outputs": [],
   "source": [
    "# одной строкой: группировка таблицы spb_general по столбцу 'genre', \n",
    "# подсчёт числа значений 'genre' в этой группировке методом count(), \n",
    "# сортировка получившегося Series в порядке убывания и сохранение в spb_genres\n",
    "spb_genres = spb_general.groupby('genre')['city'].count().sort_values(ascending=False)"
   ]
  },
  {
   "cell_type": "markdown",
   "metadata": {
    "id": "5Doha_ODgyQ8"
   },
   "source": [
    "Выведем на экран первые десять строк `spb_genres`:"
   ]
  },
  {
   "cell_type": "code",
   "execution_count": 38,
   "metadata": {
    "id": "uaGJHjVU_Zcv"
   },
   "outputs": [
    {
     "data": {
      "text/plain": [
       "genre\n",
       "pop            2431\n",
       "dance          1932\n",
       "rock           1879\n",
       "electronic     1736\n",
       "hiphop          960\n",
       "alternative     649\n",
       "classical       646\n",
       "rusrap          564\n",
       "ruspop          538\n",
       "world           515\n",
       "Name: city, dtype: int64"
      ]
     },
     "execution_count": 38,
     "metadata": {},
     "output_type": "execute_result"
    }
   ],
   "source": [
    "# просмотр первых 10 строк spb_genres\n",
    "spb_genres.head(10)"
   ]
  },
  {
   "cell_type": "markdown",
   "metadata": {
    "id": "RY51YJYu_Zcv"
   },
   "source": [
    "**Выводы**"
   ]
  },
  {
   "cell_type": "markdown",
   "metadata": {
    "id": "nVhnJEm__Zcv"
   },
   "source": [
    "Гипотеза частично подтвердилась:\n",
    "* Поп-музыка — самый популярный жанр в Москве, как и предполагала гипотеза. Более того, в топ-10 жанров встречается близкий жанр — русская популярная музыка.\n",
    "* Вопреки ожиданиям, рэп одинаково популярен в Москве и Петербурге. \n"
   ]
  },
  {
   "cell_type": "markdown",
   "metadata": {
    "id": "ykKQ0N65_Zcv"
   },
   "source": [
    "## Итоги исследования"
   ]
  },
  {
   "cell_type": "markdown",
   "metadata": {
    "id": "tjUwbHb3_Zcv"
   },
   "source": [
    "Мы проверили три гипотезы и установили:\n",
    "\n",
    "1. День недели по-разному влияет на активность пользователей в Москве и Петербурге. \n",
    "\n",
    "Первая гипотеза полностью подтвердилась.\n",
    "\n",
    "2. Музыкальные предпочтения не сильно меняются в течение недели — будь то Москва или Петербург. Небольшие различия заметны в начале недели, по понедельникам:\n",
    "* в Москве слушают музыку жанра “world”,\n",
    "* в Петербурге — джаз и классику.\n",
    "\n",
    "Таким образом, вторая гипотеза подтвердилась лишь отчасти. Этот результат мог оказаться иным, если бы не пропуски в данных.\n",
    "\n",
    "3. Во вкусах пользователей Москвы и Петербурга больше общего чем различий. Вопреки ожиданиям, предпочтения жанров в Петербурге напоминают московские.\n",
    "\n",
    "Третья гипотеза не подтвердилась. Если различия в предпочтениях и существуют, на основной массе пользователей они незаметны.\n",
    "\n",
    "Из данных одного сервиса не всегда можно сделать вывод о всех жителях города.\n",
    "Проверки статистических гипотез покажут, насколько они достоверны, исходя из имеющихся данных. "
   ]
  }
 ],
 "metadata": {
  "ExecuteTimeLog": [
   {
    "duration": 3,
    "start_time": "2022-01-24T22:13:43.408Z"
   },
   {
    "duration": 329,
    "start_time": "2022-01-24T22:14:22.199Z"
   },
   {
    "duration": 136,
    "start_time": "2022-01-24T22:14:35.731Z"
   },
   {
    "duration": 17,
    "start_time": "2022-01-24T22:14:48.101Z"
   },
   {
    "duration": 25,
    "start_time": "2022-01-24T22:15:00.222Z"
   },
   {
    "duration": 4,
    "start_time": "2022-01-24T22:16:29.603Z"
   },
   {
    "duration": 23,
    "start_time": "2022-01-24T22:18:01.424Z"
   },
   {
    "duration": 4,
    "start_time": "2022-01-24T22:18:16.511Z"
   },
   {
    "duration": 22,
    "start_time": "2022-01-24T22:19:06.908Z"
   },
   {
    "duration": 17,
    "start_time": "2022-01-24T22:21:38.504Z"
   },
   {
    "duration": 23,
    "start_time": "2022-01-24T22:21:50.969Z"
   },
   {
    "duration": 59,
    "start_time": "2022-01-24T22:22:12.633Z"
   },
   {
    "duration": 65,
    "start_time": "2022-01-24T22:23:14.787Z"
   },
   {
    "duration": 52,
    "start_time": "2022-01-24T22:23:25.923Z"
   },
   {
    "duration": 40,
    "start_time": "2022-01-24T22:28:34.486Z"
   },
   {
    "duration": 40,
    "start_time": "2022-01-24T22:31:32.347Z"
   },
   {
    "duration": 95,
    "start_time": "2022-01-24T22:39:15.778Z"
   },
   {
    "duration": 3,
    "start_time": "2022-01-24T22:40:04.835Z"
   },
   {
    "duration": 12,
    "start_time": "2022-01-24T22:43:30.326Z"
   },
   {
    "duration": 6,
    "start_time": "2022-01-24T22:44:47.641Z"
   },
   {
    "duration": 9,
    "start_time": "2022-01-24T22:46:24.182Z"
   },
   {
    "duration": 46,
    "start_time": "2022-01-24T22:48:13.686Z"
   },
   {
    "duration": 40,
    "start_time": "2022-01-24T22:48:39.836Z"
   },
   {
    "duration": 6,
    "start_time": "2022-01-24T22:49:15.388Z"
   },
   {
    "duration": 3,
    "start_time": "2022-01-24T22:49:47.297Z"
   },
   {
    "duration": 10,
    "start_time": "2022-01-24T22:49:50.303Z"
   },
   {
    "duration": 6,
    "start_time": "2022-01-24T22:49:54.639Z"
   },
   {
    "duration": 29,
    "start_time": "2022-01-24T22:57:33.384Z"
   },
   {
    "duration": 30,
    "start_time": "2022-01-24T22:57:55.940Z"
   },
   {
    "duration": 97,
    "start_time": "2022-01-24T23:00:02.170Z"
   },
   {
    "duration": 41,
    "start_time": "2022-01-24T23:00:12.273Z"
   },
   {
    "duration": 25,
    "start_time": "2022-01-24T23:02:17.523Z"
   },
   {
    "duration": 33,
    "start_time": "2022-01-24T23:02:39.421Z"
   },
   {
    "duration": 10,
    "start_time": "2022-01-24T23:04:32.668Z"
   },
   {
    "duration": 11,
    "start_time": "2022-01-24T23:05:28.819Z"
   },
   {
    "duration": 11,
    "start_time": "2022-01-24T23:05:31.881Z"
   },
   {
    "duration": 24,
    "start_time": "2022-01-24T23:06:07.905Z"
   },
   {
    "duration": 11,
    "start_time": "2022-01-24T23:06:56.120Z"
   },
   {
    "duration": 4,
    "start_time": "2022-01-24T23:13:27.914Z"
   },
   {
    "duration": 10,
    "start_time": "2022-01-24T23:13:55.972Z"
   },
   {
    "duration": 11,
    "start_time": "2022-01-24T23:14:39.162Z"
   },
   {
    "duration": 3,
    "start_time": "2022-01-24T23:15:39.484Z"
   },
   {
    "duration": 10,
    "start_time": "2022-01-24T23:15:45.822Z"
   },
   {
    "duration": 10,
    "start_time": "2022-01-24T23:16:01.021Z"
   },
   {
    "duration": 3,
    "start_time": "2022-01-24T23:16:56.232Z"
   },
   {
    "duration": 17,
    "start_time": "2022-01-24T23:16:59.963Z"
   },
   {
    "duration": 15,
    "start_time": "2022-01-24T23:17:03.488Z"
   },
   {
    "duration": 15,
    "start_time": "2022-01-24T23:17:25.321Z"
   },
   {
    "duration": 14,
    "start_time": "2022-01-24T23:17:40.006Z"
   },
   {
    "duration": 18,
    "start_time": "2022-01-24T23:18:02.022Z"
   },
   {
    "duration": 14,
    "start_time": "2022-01-24T23:18:19.940Z"
   },
   {
    "duration": 17,
    "start_time": "2022-01-24T23:28:48.924Z"
   },
   {
    "duration": 15,
    "start_time": "2022-01-24T23:29:03.404Z"
   },
   {
    "duration": 14,
    "start_time": "2022-01-24T23:30:52.701Z"
   },
   {
    "duration": 15,
    "start_time": "2022-01-24T23:30:55.843Z"
   },
   {
    "duration": 621,
    "start_time": "2022-01-24T23:35:29.792Z"
   },
   {
    "duration": 15,
    "start_time": "2022-01-24T23:35:50.013Z"
   },
   {
    "duration": 16,
    "start_time": "2022-01-24T23:35:52.385Z"
   },
   {
    "duration": 15,
    "start_time": "2022-01-24T23:35:55.252Z"
   },
   {
    "duration": 8,
    "start_time": "2022-01-24T23:36:11.508Z"
   },
   {
    "duration": 11,
    "start_time": "2022-01-24T23:42:02.167Z"
   },
   {
    "duration": 24,
    "start_time": "2022-01-24T23:42:13.037Z"
   },
   {
    "duration": 9,
    "start_time": "2022-01-24T23:42:58.919Z"
   },
   {
    "duration": 12,
    "start_time": "2022-01-24T23:43:02.931Z"
   },
   {
    "duration": 4,
    "start_time": "2022-01-24T23:51:31.261Z"
   },
   {
    "duration": 520,
    "start_time": "2022-01-24T23:53:43.280Z"
   },
   {
    "duration": 535,
    "start_time": "2022-01-24T23:54:33.817Z"
   },
   {
    "duration": 581,
    "start_time": "2022-01-24T23:55:03.063Z"
   },
   {
    "duration": 531,
    "start_time": "2022-01-24T23:55:34.570Z"
   },
   {
    "duration": 519,
    "start_time": "2022-01-24T23:56:50.102Z"
   },
   {
    "duration": 540,
    "start_time": "2022-01-25T00:05:03.897Z"
   },
   {
    "duration": 12,
    "start_time": "2022-01-25T00:07:35.935Z"
   },
   {
    "duration": 9,
    "start_time": "2022-01-25T00:07:39.128Z"
   },
   {
    "duration": 4,
    "start_time": "2022-01-25T00:07:44.252Z"
   },
   {
    "duration": 17,
    "start_time": "2022-01-25T00:07:48.219Z"
   },
   {
    "duration": 15,
    "start_time": "2022-01-25T00:07:52.916Z"
   },
   {
    "duration": 20,
    "start_time": "2022-01-25T00:08:21.300Z"
   },
   {
    "duration": 13,
    "start_time": "2022-01-25T00:08:42.750Z"
   },
   {
    "duration": 20,
    "start_time": "2022-01-25T00:09:22.928Z"
   },
   {
    "duration": 13,
    "start_time": "2022-01-25T00:09:29.279Z"
   },
   {
    "duration": 18,
    "start_time": "2022-01-25T00:09:32.985Z"
   },
   {
    "duration": 14,
    "start_time": "2022-01-25T00:09:36.153Z"
   },
   {
    "duration": 4,
    "start_time": "2022-01-25T00:09:40.502Z"
   },
   {
    "duration": 550,
    "start_time": "2022-01-25T00:09:43.494Z"
   },
   {
    "duration": 4,
    "start_time": "2022-01-25T00:09:48.304Z"
   },
   {
    "duration": 531,
    "start_time": "2022-01-25T00:09:51.152Z"
   },
   {
    "duration": 4,
    "start_time": "2022-01-25T00:10:17.852Z"
   },
   {
    "duration": 20,
    "start_time": "2022-01-25T00:10:22.035Z"
   },
   {
    "duration": 9,
    "start_time": "2022-01-25T00:20:07.976Z"
   },
   {
    "duration": 5,
    "start_time": "2022-01-25T00:20:23.081Z"
   },
   {
    "duration": 7,
    "start_time": "2022-01-25T00:21:47.971Z"
   },
   {
    "duration": 4,
    "start_time": "2022-01-25T00:22:03.186Z"
   },
   {
    "duration": 816,
    "start_time": "2022-02-01T18:48:03.462Z"
   },
   {
    "duration": 180,
    "start_time": "2022-02-01T18:48:04.281Z"
   },
   {
    "duration": 26,
    "start_time": "2022-02-01T18:48:04.465Z"
   },
   {
    "duration": 33,
    "start_time": "2022-02-01T18:48:04.493Z"
   },
   {
    "duration": 5,
    "start_time": "2022-02-01T18:48:04.528Z"
   },
   {
    "duration": 58,
    "start_time": "2022-02-01T18:48:04.535Z"
   },
   {
    "duration": 7,
    "start_time": "2022-02-01T18:48:04.596Z"
   },
   {
    "duration": 31,
    "start_time": "2022-02-01T18:48:04.607Z"
   },
   {
    "duration": 47,
    "start_time": "2022-02-01T18:48:04.641Z"
   },
   {
    "duration": 31,
    "start_time": "2022-02-01T18:48:04.691Z"
   },
   {
    "duration": 113,
    "start_time": "2022-02-01T18:48:04.724Z"
   },
   {
    "duration": 116,
    "start_time": "2022-02-01T18:48:04.839Z"
   },
   {
    "duration": 80,
    "start_time": "2022-02-01T18:48:04.958Z"
   },
   {
    "duration": 66,
    "start_time": "2022-02-01T18:48:05.041Z"
   },
   {
    "duration": 4,
    "start_time": "2022-02-01T18:48:05.109Z"
   },
   {
    "duration": 16,
    "start_time": "2022-02-01T18:48:05.115Z"
   },
   {
    "duration": 8,
    "start_time": "2022-02-01T18:48:05.133Z"
   },
   {
    "duration": 13,
    "start_time": "2022-02-01T18:48:05.170Z"
   },
   {
    "duration": 13,
    "start_time": "2022-02-01T18:48:05.186Z"
   },
   {
    "duration": 4,
    "start_time": "2022-02-01T18:48:05.201Z"
   },
   {
    "duration": 62,
    "start_time": "2022-02-01T18:48:05.207Z"
   },
   {
    "duration": 17,
    "start_time": "2022-02-01T18:48:05.272Z"
   },
   {
    "duration": 19,
    "start_time": "2022-02-01T18:48:05.294Z"
   },
   {
    "duration": 18,
    "start_time": "2022-02-01T18:48:05.316Z"
   },
   {
    "duration": 21,
    "start_time": "2022-02-01T18:48:05.370Z"
   },
   {
    "duration": 18,
    "start_time": "2022-02-01T18:48:05.393Z"
   },
   {
    "duration": 12,
    "start_time": "2022-02-01T18:48:05.414Z"
   },
   {
    "duration": 51,
    "start_time": "2022-02-01T18:48:05.428Z"
   },
   {
    "duration": 11,
    "start_time": "2022-02-01T18:48:05.482Z"
   },
   {
    "duration": 6,
    "start_time": "2022-02-01T18:48:05.495Z"
   },
   {
    "duration": 27,
    "start_time": "2022-02-01T18:48:05.503Z"
   },
   {
    "duration": 53,
    "start_time": "2022-02-01T18:48:05.532Z"
   },
   {
    "duration": 27,
    "start_time": "2022-02-01T18:48:05.588Z"
   },
   {
    "duration": 61,
    "start_time": "2022-02-01T18:48:05.617Z"
   },
   {
    "duration": 13,
    "start_time": "2022-02-01T18:48:05.681Z"
   },
   {
    "duration": 7,
    "start_time": "2022-02-01T18:48:05.697Z"
   },
   {
    "duration": 9,
    "start_time": "2022-02-01T18:48:05.706Z"
   },
   {
    "duration": 6,
    "start_time": "2022-02-01T18:48:05.717Z"
   },
   {
    "duration": 1047,
    "start_time": "2022-02-01T19:12:46.327Z"
   },
   {
    "duration": 260,
    "start_time": "2022-02-01T19:12:47.378Z"
   },
   {
    "duration": 41,
    "start_time": "2022-02-01T19:12:47.642Z"
   },
   {
    "duration": 51,
    "start_time": "2022-02-01T19:12:47.686Z"
   },
   {
    "duration": 31,
    "start_time": "2022-02-01T19:12:47.740Z"
   },
   {
    "duration": 33,
    "start_time": "2022-02-01T19:12:47.775Z"
   },
   {
    "duration": 7,
    "start_time": "2022-02-01T19:12:47.811Z"
   },
   {
    "duration": 78,
    "start_time": "2022-02-01T19:12:47.823Z"
   },
   {
    "duration": 25,
    "start_time": "2022-02-01T19:12:47.905Z"
   },
   {
    "duration": 42,
    "start_time": "2022-02-01T19:12:47.933Z"
   },
   {
    "duration": 104,
    "start_time": "2022-02-01T19:12:47.978Z"
   },
   {
    "duration": 113,
    "start_time": "2022-02-01T19:12:48.085Z"
   },
   {
    "duration": 80,
    "start_time": "2022-02-01T19:12:48.200Z"
   },
   {
    "duration": 57,
    "start_time": "2022-02-01T19:12:48.282Z"
   },
   {
    "duration": 3,
    "start_time": "2022-02-01T19:12:48.342Z"
   },
   {
    "duration": 35,
    "start_time": "2022-02-01T19:12:48.347Z"
   },
   {
    "duration": 9,
    "start_time": "2022-02-01T19:12:48.384Z"
   },
   {
    "duration": 14,
    "start_time": "2022-02-01T19:12:48.395Z"
   },
   {
    "duration": 14,
    "start_time": "2022-02-01T19:12:48.411Z"
   },
   {
    "duration": 46,
    "start_time": "2022-02-01T19:12:48.427Z"
   },
   {
    "duration": 24,
    "start_time": "2022-02-01T19:12:48.476Z"
   },
   {
    "duration": 21,
    "start_time": "2022-02-01T19:12:48.503Z"
   },
   {
    "duration": 55,
    "start_time": "2022-02-01T19:12:48.531Z"
   },
   {
    "duration": 17,
    "start_time": "2022-02-01T19:12:48.589Z"
   },
   {
    "duration": 21,
    "start_time": "2022-02-01T19:12:48.608Z"
   },
   {
    "duration": 53,
    "start_time": "2022-02-01T19:12:48.631Z"
   },
   {
    "duration": 14,
    "start_time": "2022-02-01T19:12:48.687Z"
   },
   {
    "duration": 15,
    "start_time": "2022-02-01T19:12:48.703Z"
   },
   {
    "duration": 12,
    "start_time": "2022-02-01T19:12:48.721Z"
   },
   {
    "duration": 5,
    "start_time": "2022-02-01T19:12:48.770Z"
   },
   {
    "duration": 27,
    "start_time": "2022-02-01T19:12:48.779Z"
   },
   {
    "duration": 18,
    "start_time": "2022-02-01T19:12:48.809Z"
   },
   {
    "duration": 60,
    "start_time": "2022-02-01T19:12:48.829Z"
   },
   {
    "duration": 20,
    "start_time": "2022-02-01T19:12:48.892Z"
   },
   {
    "duration": 53,
    "start_time": "2022-02-01T19:12:48.916Z"
   },
   {
    "duration": 7,
    "start_time": "2022-02-01T19:12:48.971Z"
   },
   {
    "duration": 15,
    "start_time": "2022-02-01T19:12:48.980Z"
   },
   {
    "duration": 10,
    "start_time": "2022-02-01T19:12:48.997Z"
   },
   {
    "duration": 299,
    "start_time": "2022-02-01T21:01:40.254Z"
   },
   {
    "duration": 745,
    "start_time": "2022-02-01T21:02:01.794Z"
   },
   {
    "duration": 182,
    "start_time": "2022-02-01T21:02:11.268Z"
   },
   {
    "duration": 26,
    "start_time": "2022-02-01T21:02:12.919Z"
   },
   {
    "duration": 49,
    "start_time": "2022-02-01T21:02:15.536Z"
   },
   {
    "duration": 6,
    "start_time": "2022-02-01T21:02:19.818Z"
   },
   {
    "duration": 25,
    "start_time": "2022-02-01T21:02:21.244Z"
   },
   {
    "duration": 5,
    "start_time": "2022-02-01T21:02:22.734Z"
   },
   {
    "duration": 31,
    "start_time": "2022-02-01T21:02:25.269Z"
   },
   {
    "duration": 22,
    "start_time": "2022-02-01T21:02:27.233Z"
   },
   {
    "duration": 31,
    "start_time": "2022-02-01T21:02:27.805Z"
   },
   {
    "duration": 80,
    "start_time": "2022-02-01T21:02:28.319Z"
   },
   {
    "duration": 99,
    "start_time": "2022-02-01T21:02:28.873Z"
   },
   {
    "duration": 77,
    "start_time": "2022-02-01T21:02:29.419Z"
   },
   {
    "duration": 55,
    "start_time": "2022-02-01T21:02:29.977Z"
   },
   {
    "duration": 54,
    "start_time": "2022-02-01T21:02:47.084Z"
   },
   {
    "duration": 57,
    "start_time": "2022-02-01T21:03:05.286Z"
   },
   {
    "duration": 7,
    "start_time": "2022-02-01T21:03:13.453Z"
   },
   {
    "duration": 14,
    "start_time": "2022-02-01T21:03:21.601Z"
   },
   {
    "duration": 337,
    "start_time": "2022-02-01T21:03:26.561Z"
   },
   {
    "duration": 229,
    "start_time": "2022-02-01T21:03:40.989Z"
   },
   {
    "duration": 69,
    "start_time": "2022-02-01T21:04:25.407Z"
   },
   {
    "duration": 16,
    "start_time": "2022-02-01T21:09:50.682Z"
   },
   {
    "duration": 16,
    "start_time": "2022-02-01T21:09:52.855Z"
   },
   {
    "duration": 104,
    "start_time": "2022-02-01T21:09:55.947Z"
   },
   {
    "duration": 86,
    "start_time": "2022-02-01T21:10:20.909Z"
   },
   {
    "duration": 15,
    "start_time": "2022-02-01T21:10:26.361Z"
   },
   {
    "duration": 97,
    "start_time": "2022-02-01T21:10:30.221Z"
   },
   {
    "duration": 292,
    "start_time": "2022-02-01T21:11:25.629Z"
   },
   {
    "duration": 82,
    "start_time": "2022-02-01T21:11:48.706Z"
   },
   {
    "duration": 370,
    "start_time": "2022-02-01T21:11:59.449Z"
   },
   {
    "duration": 121,
    "start_time": "2022-02-01T21:12:32.378Z"
   },
   {
    "duration": 4,
    "start_time": "2022-02-01T21:13:25.114Z"
   },
   {
    "duration": 20,
    "start_time": "2022-02-01T21:13:58.729Z"
   },
   {
    "duration": 19,
    "start_time": "2022-02-01T21:13:59.861Z"
   },
   {
    "duration": 19,
    "start_time": "2022-02-01T21:14:00.484Z"
   },
   {
    "duration": 30,
    "start_time": "2022-02-01T21:14:00.956Z"
   },
   {
    "duration": 22,
    "start_time": "2022-02-01T21:14:04.668Z"
   },
   {
    "duration": 20,
    "start_time": "2022-02-01T21:14:05.226Z"
   },
   {
    "duration": 13,
    "start_time": "2022-02-01T21:14:12.655Z"
   },
   {
    "duration": 14,
    "start_time": "2022-02-01T21:14:21.775Z"
   },
   {
    "duration": 12,
    "start_time": "2022-02-01T21:14:22.633Z"
   },
   {
    "duration": 5,
    "start_time": "2022-02-01T21:14:25.640Z"
   },
   {
    "duration": 25,
    "start_time": "2022-02-01T21:16:17.266Z"
   },
   {
    "duration": 18,
    "start_time": "2022-02-01T21:16:18.037Z"
   },
   {
    "duration": 24,
    "start_time": "2022-02-01T21:17:30.432Z"
   },
   {
    "duration": 18,
    "start_time": "2022-02-01T21:17:33.245Z"
   },
   {
    "duration": 11,
    "start_time": "2022-02-01T21:18:39.098Z"
   },
   {
    "duration": 9,
    "start_time": "2022-02-01T21:18:40.669Z"
   },
   {
    "duration": 11,
    "start_time": "2022-02-01T21:18:45.947Z"
   },
   {
    "duration": 6,
    "start_time": "2022-02-01T21:18:47.170Z"
   },
   {
    "duration": 797,
    "start_time": "2022-02-01T21:22:13.033Z"
   },
   {
    "duration": 194,
    "start_time": "2022-02-01T21:22:15.296Z"
   },
   {
    "duration": 25,
    "start_time": "2022-02-01T21:22:15.905Z"
   },
   {
    "duration": 32,
    "start_time": "2022-02-01T21:22:16.481Z"
   },
   {
    "duration": 6,
    "start_time": "2022-02-01T21:22:17.820Z"
   },
   {
    "duration": 24,
    "start_time": "2022-02-01T21:22:18.371Z"
   },
   {
    "duration": 6,
    "start_time": "2022-02-01T21:22:18.900Z"
   },
   {
    "duration": 42,
    "start_time": "2022-02-01T21:22:19.439Z"
   },
   {
    "duration": 23,
    "start_time": "2022-02-01T21:22:20.181Z"
   },
   {
    "duration": 49,
    "start_time": "2022-02-01T21:22:20.718Z"
   },
   {
    "duration": 95,
    "start_time": "2022-02-01T21:22:21.269Z"
   },
   {
    "duration": 114,
    "start_time": "2022-02-01T21:22:21.828Z"
   },
   {
    "duration": 84,
    "start_time": "2022-02-01T21:22:22.383Z"
   },
   {
    "duration": 64,
    "start_time": "2022-02-01T21:22:22.967Z"
   },
   {
    "duration": 3,
    "start_time": "2022-02-01T21:22:23.726Z"
   },
   {
    "duration": 14,
    "start_time": "2022-02-01T21:22:24.286Z"
   },
   {
    "duration": 67,
    "start_time": "2022-02-01T21:22:25.082Z"
   },
   {
    "duration": 20,
    "start_time": "2022-02-01T21:22:29.719Z"
   },
   {
    "duration": 16,
    "start_time": "2022-02-01T21:22:30.269Z"
   },
   {
    "duration": 5,
    "start_time": "2022-02-01T21:22:30.994Z"
   },
   {
    "duration": 24,
    "start_time": "2022-02-01T21:22:31.959Z"
   },
   {
    "duration": 25,
    "start_time": "2022-02-01T21:22:32.151Z"
   },
   {
    "duration": 20,
    "start_time": "2022-02-01T21:22:32.310Z"
   },
   {
    "duration": 19,
    "start_time": "2022-02-01T21:22:32.490Z"
   },
   {
    "duration": 19,
    "start_time": "2022-02-01T21:22:32.661Z"
   },
   {
    "duration": 28,
    "start_time": "2022-02-01T21:22:32.824Z"
   },
   {
    "duration": 14,
    "start_time": "2022-02-01T21:22:33.398Z"
   },
   {
    "duration": 14,
    "start_time": "2022-02-01T21:22:34.466Z"
   },
   {
    "duration": 19,
    "start_time": "2022-02-01T21:22:34.648Z"
   },
   {
    "duration": 6,
    "start_time": "2022-02-01T21:22:35.399Z"
   },
   {
    "duration": 32,
    "start_time": "2022-02-01T21:22:36.136Z"
   },
   {
    "duration": 19,
    "start_time": "2022-02-01T21:22:36.310Z"
   },
   {
    "duration": 24,
    "start_time": "2022-02-01T21:22:36.907Z"
   },
   {
    "duration": 17,
    "start_time": "2022-02-01T21:22:37.061Z"
   },
   {
    "duration": 12,
    "start_time": "2022-02-01T21:22:37.816Z"
   },
   {
    "duration": 7,
    "start_time": "2022-02-01T21:22:38.187Z"
   },
   {
    "duration": 8,
    "start_time": "2022-02-01T21:22:38.758Z"
   },
   {
    "duration": 13,
    "start_time": "2022-02-01T21:22:39.128Z"
   },
   {
    "duration": 695,
    "start_time": "2022-02-02T05:59:28.395Z"
   },
   {
    "duration": 173,
    "start_time": "2022-02-02T05:59:29.093Z"
   },
   {
    "duration": 27,
    "start_time": "2022-02-02T05:59:29.269Z"
   },
   {
    "duration": 51,
    "start_time": "2022-02-02T05:59:29.298Z"
   },
   {
    "duration": 6,
    "start_time": "2022-02-02T05:59:29.352Z"
   },
   {
    "duration": 29,
    "start_time": "2022-02-02T05:59:29.360Z"
   },
   {
    "duration": 11,
    "start_time": "2022-02-02T05:59:29.391Z"
   },
   {
    "duration": 70,
    "start_time": "2022-02-02T05:59:29.405Z"
   },
   {
    "duration": 26,
    "start_time": "2022-02-02T05:59:29.479Z"
   },
   {
    "duration": 45,
    "start_time": "2022-02-02T05:59:29.508Z"
   },
   {
    "duration": 96,
    "start_time": "2022-02-02T05:59:29.555Z"
   },
   {
    "duration": 108,
    "start_time": "2022-02-02T05:59:29.653Z"
   },
   {
    "duration": 74,
    "start_time": "2022-02-02T05:59:29.763Z"
   },
   {
    "duration": 55,
    "start_time": "2022-02-02T05:59:29.847Z"
   },
   {
    "duration": 4,
    "start_time": "2022-02-02T05:59:29.905Z"
   },
   {
    "duration": 42,
    "start_time": "2022-02-02T05:59:29.911Z"
   },
   {
    "duration": 53,
    "start_time": "2022-02-02T05:59:29.955Z"
   },
   {
    "duration": 16,
    "start_time": "2022-02-02T05:59:30.011Z"
   },
   {
    "duration": 16,
    "start_time": "2022-02-02T05:59:30.050Z"
   },
   {
    "duration": 6,
    "start_time": "2022-02-02T05:59:30.069Z"
   },
   {
    "duration": 36,
    "start_time": "2022-02-02T05:59:30.078Z"
   },
   {
    "duration": 40,
    "start_time": "2022-02-02T05:59:30.118Z"
   },
   {
    "duration": 23,
    "start_time": "2022-02-02T05:59:30.164Z"
   },
   {
    "duration": 20,
    "start_time": "2022-02-02T05:59:30.190Z"
   },
   {
    "duration": 20,
    "start_time": "2022-02-02T05:59:30.253Z"
   },
   {
    "duration": 20,
    "start_time": "2022-02-02T05:59:30.276Z"
   },
   {
    "duration": 22,
    "start_time": "2022-02-02T05:59:30.298Z"
   },
   {
    "duration": 41,
    "start_time": "2022-02-02T05:59:30.322Z"
   },
   {
    "duration": 12,
    "start_time": "2022-02-02T05:59:30.366Z"
   },
   {
    "duration": 12,
    "start_time": "2022-02-02T05:59:30.380Z"
   },
   {
    "duration": 55,
    "start_time": "2022-02-02T05:59:30.394Z"
   },
   {
    "duration": 18,
    "start_time": "2022-02-02T05:59:30.452Z"
   },
   {
    "duration": 42,
    "start_time": "2022-02-02T05:59:30.472Z"
   },
   {
    "duration": 40,
    "start_time": "2022-02-02T05:59:30.516Z"
   },
   {
    "duration": 21,
    "start_time": "2022-02-02T05:59:30.558Z"
   },
   {
    "duration": 46,
    "start_time": "2022-02-02T05:59:30.581Z"
   },
   {
    "duration": 35,
    "start_time": "2022-02-02T05:59:30.629Z"
   },
   {
    "duration": 31,
    "start_time": "2022-02-02T05:59:30.666Z"
   }
  ],
  "colab": {
   "collapsed_sections": [
    "E0vqbgi9ay0H",
    "VUC88oWjTJw2"
   ],
   "name": "yandex_music_project_2021.2.ipynb",
   "provenance": []
  },
  "kernelspec": {
   "display_name": "Python 3 (ipykernel)",
   "language": "python",
   "name": "python3"
  },
  "language_info": {
   "codemirror_mode": {
    "name": "ipython",
    "version": 3
   },
   "file_extension": ".py",
   "mimetype": "text/x-python",
   "name": "python",
   "nbconvert_exporter": "python",
   "pygments_lexer": "ipython3",
   "version": "3.10.9"
  },
  "toc": {
   "base_numbering": 1,
   "nav_menu": {},
   "number_sections": true,
   "sideBar": true,
   "skip_h1_title": true,
   "title_cell": "Table of Contents",
   "title_sidebar": "Contents",
   "toc_cell": false,
   "toc_position": {},
   "toc_section_display": true,
   "toc_window_display": true
  }
 },
 "nbformat": 4,
 "nbformat_minor": 1
}
